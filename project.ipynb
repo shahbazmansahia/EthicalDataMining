{
  "nbformat": 4,
  "nbformat_minor": 0,
  "metadata": {
    "colab": {
      "name": "project.ipynb",
      "provenance": [],
      "collapsed_sections": []
    },
    "kernelspec": {
      "name": "python3",
      "display_name": "Python 3"
    },
    "language_info": {
      "name": "python"
    }
  },
  "cells": [
    {
      "cell_type": "code",
      "execution_count": 47,
      "metadata": {
        "id": "Kd-rn0WQEB3L"
      },
      "outputs": [],
      "source": [
        "import pandas as pd\n",
        "import numpy as np\n",
        "import matplotlib.pyplot as plt\n",
        "import seaborn as sns\n",
        "import plotly.express as px\n",
        "import plotly.graph_objs as go\n",
        "import plotly.figure_factory as ff\n",
        "from plotly.offline import iplot\n",
        "from plotly.subplots import make_subplots"
      ]
    },
    {
      "cell_type": "code",
      "source": [
        "df=pd.read_csv('/content/shootings_wash_post.csv')\n",
        "df"
      ],
      "metadata": {
        "colab": {
          "base_uri": "https://localhost:8080/",
          "height": 679
        },
        "id": "aeOoad2lHeHa",
        "outputId": "25b97b9a-dfc2-4b54-b4de-36a2946b1d9d"
      },
      "execution_count": 2,
      "outputs": [
        {
          "output_type": "execute_result",
          "data": {
            "text/plain": [
              "        id                name        date   manner_of_death         armed  \\\n",
              "0        3          Tim Elliot  2015-01-02              shot           gun   \n",
              "1        4    Lewis Lee Lembke  2015-01-02              shot           gun   \n",
              "2        5  John Paul Quintero  2015-01-03  shot and Tasered       unarmed   \n",
              "3        8     Matthew Hoffman  2015-01-04              shot    toy weapon   \n",
              "4        9   Michael Rodriguez  2015-01-04              shot      nail gun   \n",
              "...    ...                 ...         ...               ...           ...   \n",
              "5547  6048               TK TK  2020-08-15              shot         knife   \n",
              "5548  6042        Thomas Moles  2020-08-16              shot  undetermined   \n",
              "5549  6043  Jose Manuel Castro  2020-08-16              shot         knife   \n",
              "5550  6044     Jeffrey Hubbard  2020-08-16              shot           gun   \n",
              "5551  6045               TK TK  2020-08-16              shot           gun   \n",
              "\n",
              "       age gender race           city state  signs_of_mental_illness  \\\n",
              "0     53.0      M    A        Shelton    WA                     True   \n",
              "1     47.0      M    W          Aloha    OR                    False   \n",
              "2     23.0      M    H        Wichita    KS                    False   \n",
              "3     32.0      M    W  San Francisco    CA                     True   \n",
              "4     39.0      M    H          Evans    CO                    False   \n",
              "...    ...    ...  ...            ...   ...                      ...   \n",
              "5547   NaN      M  NaN         Denver    CO                    False   \n",
              "5548  35.0      M    W   Maury County    TN                    False   \n",
              "5549  27.0      M    H      Dos Palos    CA                    False   \n",
              "5550  67.0      M    W      Las Vegas    NV                     True   \n",
              "5551  30.0      M  NaN          Hemet    CA                    False   \n",
              "\n",
              "     threat_level         flee  body_camera  \n",
              "0          attack  Not fleeing        False  \n",
              "1          attack  Not fleeing        False  \n",
              "2           other  Not fleeing        False  \n",
              "3          attack  Not fleeing        False  \n",
              "4          attack  Not fleeing        False  \n",
              "...           ...          ...          ...  \n",
              "5547       attack  Not fleeing        False  \n",
              "5548        other        Other        False  \n",
              "5549        other  Not fleeing        False  \n",
              "5550        other  Not fleeing        False  \n",
              "5551        other          Car        False  \n",
              "\n",
              "[5552 rows x 14 columns]"
            ],
            "text/html": [
              "\n",
              "  <div id=\"df-da4a358f-1000-4663-ab66-5f90a31d0b3d\">\n",
              "    <div class=\"colab-df-container\">\n",
              "      <div>\n",
              "<style scoped>\n",
              "    .dataframe tbody tr th:only-of-type {\n",
              "        vertical-align: middle;\n",
              "    }\n",
              "\n",
              "    .dataframe tbody tr th {\n",
              "        vertical-align: top;\n",
              "    }\n",
              "\n",
              "    .dataframe thead th {\n",
              "        text-align: right;\n",
              "    }\n",
              "</style>\n",
              "<table border=\"1\" class=\"dataframe\">\n",
              "  <thead>\n",
              "    <tr style=\"text-align: right;\">\n",
              "      <th></th>\n",
              "      <th>id</th>\n",
              "      <th>name</th>\n",
              "      <th>date</th>\n",
              "      <th>manner_of_death</th>\n",
              "      <th>armed</th>\n",
              "      <th>age</th>\n",
              "      <th>gender</th>\n",
              "      <th>race</th>\n",
              "      <th>city</th>\n",
              "      <th>state</th>\n",
              "      <th>signs_of_mental_illness</th>\n",
              "      <th>threat_level</th>\n",
              "      <th>flee</th>\n",
              "      <th>body_camera</th>\n",
              "    </tr>\n",
              "  </thead>\n",
              "  <tbody>\n",
              "    <tr>\n",
              "      <th>0</th>\n",
              "      <td>3</td>\n",
              "      <td>Tim Elliot</td>\n",
              "      <td>2015-01-02</td>\n",
              "      <td>shot</td>\n",
              "      <td>gun</td>\n",
              "      <td>53.0</td>\n",
              "      <td>M</td>\n",
              "      <td>A</td>\n",
              "      <td>Shelton</td>\n",
              "      <td>WA</td>\n",
              "      <td>True</td>\n",
              "      <td>attack</td>\n",
              "      <td>Not fleeing</td>\n",
              "      <td>False</td>\n",
              "    </tr>\n",
              "    <tr>\n",
              "      <th>1</th>\n",
              "      <td>4</td>\n",
              "      <td>Lewis Lee Lembke</td>\n",
              "      <td>2015-01-02</td>\n",
              "      <td>shot</td>\n",
              "      <td>gun</td>\n",
              "      <td>47.0</td>\n",
              "      <td>M</td>\n",
              "      <td>W</td>\n",
              "      <td>Aloha</td>\n",
              "      <td>OR</td>\n",
              "      <td>False</td>\n",
              "      <td>attack</td>\n",
              "      <td>Not fleeing</td>\n",
              "      <td>False</td>\n",
              "    </tr>\n",
              "    <tr>\n",
              "      <th>2</th>\n",
              "      <td>5</td>\n",
              "      <td>John Paul Quintero</td>\n",
              "      <td>2015-01-03</td>\n",
              "      <td>shot and Tasered</td>\n",
              "      <td>unarmed</td>\n",
              "      <td>23.0</td>\n",
              "      <td>M</td>\n",
              "      <td>H</td>\n",
              "      <td>Wichita</td>\n",
              "      <td>KS</td>\n",
              "      <td>False</td>\n",
              "      <td>other</td>\n",
              "      <td>Not fleeing</td>\n",
              "      <td>False</td>\n",
              "    </tr>\n",
              "    <tr>\n",
              "      <th>3</th>\n",
              "      <td>8</td>\n",
              "      <td>Matthew Hoffman</td>\n",
              "      <td>2015-01-04</td>\n",
              "      <td>shot</td>\n",
              "      <td>toy weapon</td>\n",
              "      <td>32.0</td>\n",
              "      <td>M</td>\n",
              "      <td>W</td>\n",
              "      <td>San Francisco</td>\n",
              "      <td>CA</td>\n",
              "      <td>True</td>\n",
              "      <td>attack</td>\n",
              "      <td>Not fleeing</td>\n",
              "      <td>False</td>\n",
              "    </tr>\n",
              "    <tr>\n",
              "      <th>4</th>\n",
              "      <td>9</td>\n",
              "      <td>Michael Rodriguez</td>\n",
              "      <td>2015-01-04</td>\n",
              "      <td>shot</td>\n",
              "      <td>nail gun</td>\n",
              "      <td>39.0</td>\n",
              "      <td>M</td>\n",
              "      <td>H</td>\n",
              "      <td>Evans</td>\n",
              "      <td>CO</td>\n",
              "      <td>False</td>\n",
              "      <td>attack</td>\n",
              "      <td>Not fleeing</td>\n",
              "      <td>False</td>\n",
              "    </tr>\n",
              "    <tr>\n",
              "      <th>...</th>\n",
              "      <td>...</td>\n",
              "      <td>...</td>\n",
              "      <td>...</td>\n",
              "      <td>...</td>\n",
              "      <td>...</td>\n",
              "      <td>...</td>\n",
              "      <td>...</td>\n",
              "      <td>...</td>\n",
              "      <td>...</td>\n",
              "      <td>...</td>\n",
              "      <td>...</td>\n",
              "      <td>...</td>\n",
              "      <td>...</td>\n",
              "      <td>...</td>\n",
              "    </tr>\n",
              "    <tr>\n",
              "      <th>5547</th>\n",
              "      <td>6048</td>\n",
              "      <td>TK TK</td>\n",
              "      <td>2020-08-15</td>\n",
              "      <td>shot</td>\n",
              "      <td>knife</td>\n",
              "      <td>NaN</td>\n",
              "      <td>M</td>\n",
              "      <td>NaN</td>\n",
              "      <td>Denver</td>\n",
              "      <td>CO</td>\n",
              "      <td>False</td>\n",
              "      <td>attack</td>\n",
              "      <td>Not fleeing</td>\n",
              "      <td>False</td>\n",
              "    </tr>\n",
              "    <tr>\n",
              "      <th>5548</th>\n",
              "      <td>6042</td>\n",
              "      <td>Thomas Moles</td>\n",
              "      <td>2020-08-16</td>\n",
              "      <td>shot</td>\n",
              "      <td>undetermined</td>\n",
              "      <td>35.0</td>\n",
              "      <td>M</td>\n",
              "      <td>W</td>\n",
              "      <td>Maury County</td>\n",
              "      <td>TN</td>\n",
              "      <td>False</td>\n",
              "      <td>other</td>\n",
              "      <td>Other</td>\n",
              "      <td>False</td>\n",
              "    </tr>\n",
              "    <tr>\n",
              "      <th>5549</th>\n",
              "      <td>6043</td>\n",
              "      <td>Jose Manuel Castro</td>\n",
              "      <td>2020-08-16</td>\n",
              "      <td>shot</td>\n",
              "      <td>knife</td>\n",
              "      <td>27.0</td>\n",
              "      <td>M</td>\n",
              "      <td>H</td>\n",
              "      <td>Dos Palos</td>\n",
              "      <td>CA</td>\n",
              "      <td>False</td>\n",
              "      <td>other</td>\n",
              "      <td>Not fleeing</td>\n",
              "      <td>False</td>\n",
              "    </tr>\n",
              "    <tr>\n",
              "      <th>5550</th>\n",
              "      <td>6044</td>\n",
              "      <td>Jeffrey Hubbard</td>\n",
              "      <td>2020-08-16</td>\n",
              "      <td>shot</td>\n",
              "      <td>gun</td>\n",
              "      <td>67.0</td>\n",
              "      <td>M</td>\n",
              "      <td>W</td>\n",
              "      <td>Las Vegas</td>\n",
              "      <td>NV</td>\n",
              "      <td>True</td>\n",
              "      <td>other</td>\n",
              "      <td>Not fleeing</td>\n",
              "      <td>False</td>\n",
              "    </tr>\n",
              "    <tr>\n",
              "      <th>5551</th>\n",
              "      <td>6045</td>\n",
              "      <td>TK TK</td>\n",
              "      <td>2020-08-16</td>\n",
              "      <td>shot</td>\n",
              "      <td>gun</td>\n",
              "      <td>30.0</td>\n",
              "      <td>M</td>\n",
              "      <td>NaN</td>\n",
              "      <td>Hemet</td>\n",
              "      <td>CA</td>\n",
              "      <td>False</td>\n",
              "      <td>other</td>\n",
              "      <td>Car</td>\n",
              "      <td>False</td>\n",
              "    </tr>\n",
              "  </tbody>\n",
              "</table>\n",
              "<p>5552 rows × 14 columns</p>\n",
              "</div>\n",
              "      <button class=\"colab-df-convert\" onclick=\"convertToInteractive('df-da4a358f-1000-4663-ab66-5f90a31d0b3d')\"\n",
              "              title=\"Convert this dataframe to an interactive table.\"\n",
              "              style=\"display:none;\">\n",
              "        \n",
              "  <svg xmlns=\"http://www.w3.org/2000/svg\" height=\"24px\"viewBox=\"0 0 24 24\"\n",
              "       width=\"24px\">\n",
              "    <path d=\"M0 0h24v24H0V0z\" fill=\"none\"/>\n",
              "    <path d=\"M18.56 5.44l.94 2.06.94-2.06 2.06-.94-2.06-.94-.94-2.06-.94 2.06-2.06.94zm-11 1L8.5 8.5l.94-2.06 2.06-.94-2.06-.94L8.5 2.5l-.94 2.06-2.06.94zm10 10l.94 2.06.94-2.06 2.06-.94-2.06-.94-.94-2.06-.94 2.06-2.06.94z\"/><path d=\"M17.41 7.96l-1.37-1.37c-.4-.4-.92-.59-1.43-.59-.52 0-1.04.2-1.43.59L10.3 9.45l-7.72 7.72c-.78.78-.78 2.05 0 2.83L4 21.41c.39.39.9.59 1.41.59.51 0 1.02-.2 1.41-.59l7.78-7.78 2.81-2.81c.8-.78.8-2.07 0-2.86zM5.41 20L4 18.59l7.72-7.72 1.47 1.35L5.41 20z\"/>\n",
              "  </svg>\n",
              "      </button>\n",
              "      \n",
              "  <style>\n",
              "    .colab-df-container {\n",
              "      display:flex;\n",
              "      flex-wrap:wrap;\n",
              "      gap: 12px;\n",
              "    }\n",
              "\n",
              "    .colab-df-convert {\n",
              "      background-color: #E8F0FE;\n",
              "      border: none;\n",
              "      border-radius: 50%;\n",
              "      cursor: pointer;\n",
              "      display: none;\n",
              "      fill: #1967D2;\n",
              "      height: 32px;\n",
              "      padding: 0 0 0 0;\n",
              "      width: 32px;\n",
              "    }\n",
              "\n",
              "    .colab-df-convert:hover {\n",
              "      background-color: #E2EBFA;\n",
              "      box-shadow: 0px 1px 2px rgba(60, 64, 67, 0.3), 0px 1px 3px 1px rgba(60, 64, 67, 0.15);\n",
              "      fill: #174EA6;\n",
              "    }\n",
              "\n",
              "    [theme=dark] .colab-df-convert {\n",
              "      background-color: #3B4455;\n",
              "      fill: #D2E3FC;\n",
              "    }\n",
              "\n",
              "    [theme=dark] .colab-df-convert:hover {\n",
              "      background-color: #434B5C;\n",
              "      box-shadow: 0px 1px 3px 1px rgba(0, 0, 0, 0.15);\n",
              "      filter: drop-shadow(0px 1px 2px rgba(0, 0, 0, 0.3));\n",
              "      fill: #FFFFFF;\n",
              "    }\n",
              "  </style>\n",
              "\n",
              "      <script>\n",
              "        const buttonEl =\n",
              "          document.querySelector('#df-da4a358f-1000-4663-ab66-5f90a31d0b3d button.colab-df-convert');\n",
              "        buttonEl.style.display =\n",
              "          google.colab.kernel.accessAllowed ? 'block' : 'none';\n",
              "\n",
              "        async function convertToInteractive(key) {\n",
              "          const element = document.querySelector('#df-da4a358f-1000-4663-ab66-5f90a31d0b3d');\n",
              "          const dataTable =\n",
              "            await google.colab.kernel.invokeFunction('convertToInteractive',\n",
              "                                                     [key], {});\n",
              "          if (!dataTable) return;\n",
              "\n",
              "          const docLinkHtml = 'Like what you see? Visit the ' +\n",
              "            '<a target=\"_blank\" href=https://colab.research.google.com/notebooks/data_table.ipynb>data table notebook</a>'\n",
              "            + ' to learn more about interactive tables.';\n",
              "          element.innerHTML = '';\n",
              "          dataTable['output_type'] = 'display_data';\n",
              "          await google.colab.output.renderOutput(dataTable, element);\n",
              "          const docLink = document.createElement('div');\n",
              "          docLink.innerHTML = docLinkHtml;\n",
              "          element.appendChild(docLink);\n",
              "        }\n",
              "      </script>\n",
              "    </div>\n",
              "  </div>\n",
              "  "
            ]
          },
          "metadata": {},
          "execution_count": 2
        }
      ]
    },
    {
      "cell_type": "code",
      "source": [
        "df.info()"
      ],
      "metadata": {
        "colab": {
          "base_uri": "https://localhost:8080/"
        },
        "id": "Qsn14lPw5tL_",
        "outputId": "8d082f60-d5b8-4b68-e0f4-a595c9462967"
      },
      "execution_count": 3,
      "outputs": [
        {
          "output_type": "stream",
          "name": "stdout",
          "text": [
            "<class 'pandas.core.frame.DataFrame'>\n",
            "RangeIndex: 5552 entries, 0 to 5551\n",
            "Data columns (total 14 columns):\n",
            " #   Column                   Non-Null Count  Dtype  \n",
            "---  ------                   --------------  -----  \n",
            " 0   id                       5552 non-null   int64  \n",
            " 1   name                     5552 non-null   object \n",
            " 2   date                     5552 non-null   object \n",
            " 3   manner_of_death          5552 non-null   object \n",
            " 4   armed                    5339 non-null   object \n",
            " 5   age                      5307 non-null   float64\n",
            " 6   gender                   5551 non-null   object \n",
            " 7   race                     4966 non-null   object \n",
            " 8   city                     5552 non-null   object \n",
            " 9   state                    5552 non-null   object \n",
            " 10  signs_of_mental_illness  5552 non-null   bool   \n",
            " 11  threat_level             5552 non-null   object \n",
            " 12  flee                     5290 non-null   object \n",
            " 13  body_camera              5552 non-null   bool   \n",
            "dtypes: bool(2), float64(1), int64(1), object(10)\n",
            "memory usage: 531.5+ KB\n"
          ]
        }
      ]
    },
    {
      "cell_type": "code",
      "source": [
        "df.isnull().values.sum()"
      ],
      "metadata": {
        "colab": {
          "base_uri": "https://localhost:8080/"
        },
        "id": "yhg_PfACAR2q",
        "outputId": "ed7657cc-3e2a-4fe2-c0b6-8d16fda09a0b"
      },
      "execution_count": 4,
      "outputs": [
        {
          "output_type": "execute_result",
          "data": {
            "text/plain": [
              "1307"
            ]
          },
          "metadata": {},
          "execution_count": 4
        }
      ]
    },
    {
      "cell_type": "code",
      "source": [
        "df['age']= df['age'].fillna(df['age'].median())"
      ],
      "metadata": {
        "id": "640aiaM0E8O5"
      },
      "execution_count": 5,
      "outputs": []
    },
    {
      "cell_type": "code",
      "source": [
        "df['armed']=df['armed'].fillna(df['armed'].mode())"
      ],
      "metadata": {
        "id": "cW66_1H2FLNW"
      },
      "execution_count": 6,
      "outputs": []
    },
    {
      "cell_type": "code",
      "source": [
        "df['armed'].value_counts()"
      ],
      "metadata": {
        "colab": {
          "base_uri": "https://localhost:8080/"
        },
        "id": "l0EP0uewgbsa",
        "outputId": "9cfe70ef-66a0-4d73-c9e4-b27403a44f03"
      },
      "execution_count": 7,
      "outputs": [
        {
          "output_type": "execute_result",
          "data": {
            "text/plain": [
              "gun                        3146\n",
              "knife                       818\n",
              "unarmed                     355\n",
              "toy weapon                  193\n",
              "undetermined                168\n",
              "                           ... \n",
              "baseball bat and bottle       1\n",
              "fireworks                     1\n",
              "pen                           1\n",
              "chainsaw                      1\n",
              "bottle                        1\n",
              "Name: armed, Length: 94, dtype: int64"
            ]
          },
          "metadata": {},
          "execution_count": 7
        }
      ]
    },
    {
      "cell_type": "code",
      "source": [
        "df['gender']=df['gender'].fillna(df['gender'].mode())"
      ],
      "metadata": {
        "id": "J7MMnU0IF8uF"
      },
      "execution_count": 8,
      "outputs": []
    },
    {
      "cell_type": "code",
      "source": [
        "df['race'].value_counts()"
      ],
      "metadata": {
        "colab": {
          "base_uri": "https://localhost:8080/"
        },
        "id": "_YXokzn8GIc6",
        "outputId": "81298a1f-be42-40ff-b7c8-0052b0a48c1e"
      },
      "execution_count": 9,
      "outputs": [
        {
          "output_type": "execute_result",
          "data": {
            "text/plain": [
              "W    2518\n",
              "B    1314\n",
              "H     914\n",
              "A      94\n",
              "N      78\n",
              "O      48\n",
              "Name: race, dtype: int64"
            ]
          },
          "metadata": {},
          "execution_count": 9
        }
      ]
    },
    {
      "cell_type": "code",
      "source": [
        "df['race'].isnull().values.sum()"
      ],
      "metadata": {
        "colab": {
          "base_uri": "https://localhost:8080/"
        },
        "id": "rTIRT3nGGVK6",
        "outputId": "265b748c-cccf-4843-c9d8-3564adabbcef"
      },
      "execution_count": 10,
      "outputs": [
        {
          "output_type": "execute_result",
          "data": {
            "text/plain": [
              "586"
            ]
          },
          "metadata": {},
          "execution_count": 10
        }
      ]
    },
    {
      "cell_type": "code",
      "source": [
        "def impute_nan_create_category(DataFrame,ColName):\n",
        "    DataFrame[ColName]=np.where(DataFrame[ColName].isnull(),\"Unknown\",DataFrame[ColName])\n",
        "\n",
        "impute_nan_create_category(df,'race')"
      ],
      "metadata": {
        "id": "0Imf3_4AHv5a"
      },
      "execution_count": 11,
      "outputs": []
    },
    {
      "cell_type": "code",
      "source": [
        "df['race'].value_counts()"
      ],
      "metadata": {
        "colab": {
          "base_uri": "https://localhost:8080/"
        },
        "id": "ry_ebk2ZH0_u",
        "outputId": "f6b66bd0-b901-4e7c-f956-5946317f6d4a"
      },
      "execution_count": 12,
      "outputs": [
        {
          "output_type": "execute_result",
          "data": {
            "text/plain": [
              "W          2518\n",
              "B          1314\n",
              "H           914\n",
              "Unknown     586\n",
              "A            94\n",
              "N            78\n",
              "O            48\n",
              "Name: race, dtype: int64"
            ]
          },
          "metadata": {},
          "execution_count": 12
        }
      ]
    },
    {
      "cell_type": "code",
      "source": [
        "df['flee']=df['flee'].fillna(df['flee'].mode())"
      ],
      "metadata": {
        "id": "RbLdgYr5fsLO"
      },
      "execution_count": 13,
      "outputs": []
    },
    {
      "cell_type": "code",
      "source": [
        "df.info()"
      ],
      "metadata": {
        "colab": {
          "base_uri": "https://localhost:8080/"
        },
        "id": "j2_jQk83f05z",
        "outputId": "a043d75a-9aa7-449e-fa2e-ec69aa08fd9c"
      },
      "execution_count": 14,
      "outputs": [
        {
          "output_type": "stream",
          "name": "stdout",
          "text": [
            "<class 'pandas.core.frame.DataFrame'>\n",
            "RangeIndex: 5552 entries, 0 to 5551\n",
            "Data columns (total 14 columns):\n",
            " #   Column                   Non-Null Count  Dtype  \n",
            "---  ------                   --------------  -----  \n",
            " 0   id                       5552 non-null   int64  \n",
            " 1   name                     5552 non-null   object \n",
            " 2   date                     5552 non-null   object \n",
            " 3   manner_of_death          5552 non-null   object \n",
            " 4   armed                    5339 non-null   object \n",
            " 5   age                      5552 non-null   float64\n",
            " 6   gender                   5551 non-null   object \n",
            " 7   race                     5552 non-null   object \n",
            " 8   city                     5552 non-null   object \n",
            " 9   state                    5552 non-null   object \n",
            " 10  signs_of_mental_illness  5552 non-null   bool   \n",
            " 11  threat_level             5552 non-null   object \n",
            " 12  flee                     5290 non-null   object \n",
            " 13  body_camera              5552 non-null   bool   \n",
            "dtypes: bool(2), float64(1), int64(1), object(10)\n",
            "memory usage: 531.5+ KB\n"
          ]
        }
      ]
    },
    {
      "cell_type": "code",
      "source": [
        "def PlotBarCharts(inpData, colsToPlot):\n",
        "    fig, subPlot=plt.subplots(nrows=1, ncols=len(colsToPlot), figsize=(30,10))\n",
        "    for colName, plotNumber in zip(colsToPlot, range(len(colsToPlot))):\n",
        "        inpData.groupby(colName).size().plot(kind='bar',ax=subPlot[plotNumber])"
      ],
      "metadata": {
        "id": "eKmTBoKEJdZs"
      },
      "execution_count": 15,
      "outputs": []
    },
    {
      "cell_type": "code",
      "source": [
        "PlotBarCharts(df,['race','age'])"
      ],
      "metadata": {
        "colab": {
          "base_uri": "https://localhost:8080/",
          "height": 438
        },
        "id": "W5p2qojiJfr8",
        "outputId": "4cc0cbf5-fd84-4dfb-ba0a-77ffad96e1b0"
      },
      "execution_count": 16,
      "outputs": [
        {
          "output_type": "display_data",
          "data": {
            "text/plain": [
              "<Figure size 2160x720 with 2 Axes>"
            ],
            "image/png": "[encoded data removed]"
          },
          "metadata": {
            "needs_background": "light"
          }
        }
      ]
    },
    {
      "cell_type": "code",
      "source": [
        "PlotBarCharts(df,['flee','threat_level','state'])"
      ],
      "metadata": {
        "colab": {
          "base_uri": "https://localhost:8080/",
          "height": 455
        },
        "id": "cakoIh59J9yb",
        "outputId": "5833f8da-fc7c-45f5-c525-b0c6e1bd652c"
      },
      "execution_count": 17,
      "outputs": [
        {
          "output_type": "display_data",
          "data": {
            "text/plain": [
              "<Figure size 2160x720 with 3 Axes>"
            ],
            "image/png": "[encoded data removed]"
          },
          "metadata": {
            "needs_background": "light"
          }
        }
      ]
    },
    {
      "cell_type": "code",
      "source": [
        "PlotBarCharts(df,['manner_of_death','body_camera'])"
      ],
      "metadata": {
        "colab": {
          "base_uri": "https://localhost:8080/",
          "height": 464
        },
        "id": "IWewqTIPKhWq",
        "outputId": "c93ee9f0-aa0d-4965-f6ef-aadca9fe00db"
      },
      "execution_count": 53,
      "outputs": [
        {
          "output_type": "display_data",
          "data": {
            "text/plain": [
              "<Figure size 2160x720 with 2 Axes>"
            ],
            "image/png": "[encoded data removed]"
          },
          "metadata": {
            "needs_background": "light"
          }
        }
      ]
    },
    {
      "cell_type": "code",
      "source": [
        "pd.crosstab(df['manner_of_death'],df['race'])"
      ],
      "metadata": {
        "colab": {
          "base_uri": "https://localhost:8080/",
          "height": 143
        },
        "id": "53Sn97OpjtkQ",
        "outputId": "79116518-ae63-4561-e8a7-d43c1ae65b24"
      },
      "execution_count": 45,
      "outputs": [
        {
          "output_type": "execute_result",
          "data": {
            "text/plain": [
              "race               A     B    H   N   O  Unknown     W\n",
              "manner_of_death                                       \n",
              "shot              86  1243  864  77  43      561  2401\n",
              "shot and Tasered   8    71   50   1   5       25   117"
            ],
            "text/html": [
              "\n",
              "  <div id=\"df-18112e26-92f4-463e-94aa-e31dc58c3fac\">\n",
              "    <div class=\"colab-df-container\">\n",
              "      <div>\n",
              "<style scoped>\n",
              "    .dataframe tbody tr th:only-of-type {\n",
              "        vertical-align: middle;\n",
              "    }\n",
              "\n",
              "    .dataframe tbody tr th {\n",
              "        vertical-align: top;\n",
              "    }\n",
              "\n",
              "    .dataframe thead th {\n",
              "        text-align: right;\n",
              "    }\n",
              "</style>\n",
              "<table border=\"1\" class=\"dataframe\">\n",
              "  <thead>\n",
              "    <tr style=\"text-align: right;\">\n",
              "      <th>race</th>\n",
              "      <th>A</th>\n",
              "      <th>B</th>\n",
              "      <th>H</th>\n",
              "      <th>N</th>\n",
              "      <th>O</th>\n",
              "      <th>Unknown</th>\n",
              "      <th>W</th>\n",
              "    </tr>\n",
              "    <tr>\n",
              "      <th>manner_of_death</th>\n",
              "      <th></th>\n",
              "      <th></th>\n",
              "      <th></th>\n",
              "      <th></th>\n",
              "      <th></th>\n",
              "      <th></th>\n",
              "      <th></th>\n",
              "    </tr>\n",
              "  </thead>\n",
              "  <tbody>\n",
              "    <tr>\n",
              "      <th>shot</th>\n",
              "      <td>86</td>\n",
              "      <td>1243</td>\n",
              "      <td>864</td>\n",
              "      <td>77</td>\n",
              "      <td>43</td>\n",
              "      <td>561</td>\n",
              "      <td>2401</td>\n",
              "    </tr>\n",
              "    <tr>\n",
              "      <th>shot and Tasered</th>\n",
              "      <td>8</td>\n",
              "      <td>71</td>\n",
              "      <td>50</td>\n",
              "      <td>1</td>\n",
              "      <td>5</td>\n",
              "      <td>25</td>\n",
              "      <td>117</td>\n",
              "    </tr>\n",
              "  </tbody>\n",
              "</table>\n",
              "</div>\n",
              "      <button class=\"colab-df-convert\" onclick=\"convertToInteractive('df-18112e26-92f4-463e-94aa-e31dc58c3fac')\"\n",
              "              title=\"Convert this dataframe to an interactive table.\"\n",
              "              style=\"display:none;\">\n",
              "        \n",
              "  <svg xmlns=\"http://www.w3.org/2000/svg\" height=\"24px\"viewBox=\"0 0 24 24\"\n",
              "       width=\"24px\">\n",
              "    <path d=\"M0 0h24v24H0V0z\" fill=\"none\"/>\n",
              "    <path d=\"M18.56 5.44l.94 2.06.94-2.06 2.06-.94-2.06-.94-.94-2.06-.94 2.06-2.06.94zm-11 1L8.5 8.5l.94-2.06 2.06-.94-2.06-.94L8.5 2.5l-.94 2.06-2.06.94zm10 10l.94 2.06.94-2.06 2.06-.94-2.06-.94-.94-2.06-.94 2.06-2.06.94z\"/><path d=\"M17.41 7.96l-1.37-1.37c-.4-.4-.92-.59-1.43-.59-.52 0-1.04.2-1.43.59L10.3 9.45l-7.72 7.72c-.78.78-.78 2.05 0 2.83L4 21.41c.39.39.9.59 1.41.59.51 0 1.02-.2 1.41-.59l7.78-7.78 2.81-2.81c.8-.78.8-2.07 0-2.86zM5.41 20L4 18.59l7.72-7.72 1.47 1.35L5.41 20z\"/>\n",
              "  </svg>\n",
              "      </button>\n",
              "      \n",
              "  <style>\n",
              "    .colab-df-container {\n",
              "      display:flex;\n",
              "      flex-wrap:wrap;\n",
              "      gap: 12px;\n",
              "    }\n",
              "\n",
              "    .colab-df-convert {\n",
              "      background-color: #E8F0FE;\n",
              "      border: none;\n",
              "      border-radius: 50%;\n",
              "      cursor: pointer;\n",
              "      display: none;\n",
              "      fill: #1967D2;\n",
              "      height: 32px;\n",
              "      padding: 0 0 0 0;\n",
              "      width: 32px;\n",
              "    }\n",
              "\n",
              "    .colab-df-convert:hover {\n",
              "      background-color: #E2EBFA;\n",
              "      box-shadow: 0px 1px 2px rgba(60, 64, 67, 0.3), 0px 1px 3px 1px rgba(60, 64, 67, 0.15);\n",
              "      fill: #174EA6;\n",
              "    }\n",
              "\n",
              "    [theme=dark] .colab-df-convert {\n",
              "      background-color: #3B4455;\n",
              "      fill: #D2E3FC;\n",
              "    }\n",
              "\n",
              "    [theme=dark] .colab-df-convert:hover {\n",
              "      background-color: #434B5C;\n",
              "      box-shadow: 0px 1px 3px 1px rgba(0, 0, 0, 0.15);\n",
              "      filter: drop-shadow(0px 1px 2px rgba(0, 0, 0, 0.3));\n",
              "      fill: #FFFFFF;\n",
              "    }\n",
              "  </style>\n",
              "\n",
              "      <script>\n",
              "        const buttonEl =\n",
              "          document.querySelector('#df-18112e26-92f4-463e-94aa-e31dc58c3fac button.colab-df-convert');\n",
              "        buttonEl.style.display =\n",
              "          google.colab.kernel.accessAllowed ? 'block' : 'none';\n",
              "\n",
              "        async function convertToInteractive(key) {\n",
              "          const element = document.querySelector('#df-18112e26-92f4-463e-94aa-e31dc58c3fac');\n",
              "          const dataTable =\n",
              "            await google.colab.kernel.invokeFunction('convertToInteractive',\n",
              "                                                     [key], {});\n",
              "          if (!dataTable) return;\n",
              "\n",
              "          const docLinkHtml = 'Like what you see? Visit the ' +\n",
              "            '<a target=\"_blank\" href=https://colab.research.google.com/notebooks/data_table.ipynb>data table notebook</a>'\n",
              "            + ' to learn more about interactive tables.';\n",
              "          element.innerHTML = '';\n",
              "          dataTable['output_type'] = 'display_data';\n",
              "          await google.colab.output.renderOutput(dataTable, element);\n",
              "          const docLink = document.createElement('div');\n",
              "          docLink.innerHTML = docLinkHtml;\n",
              "          element.appendChild(docLink);\n",
              "        }\n",
              "      </script>\n",
              "    </div>\n",
              "  </div>\n",
              "  "
            ]
          },
          "metadata": {},
          "execution_count": 45
        }
      ]
    },
    {
      "cell_type": "code",
      "source": [
        "def plot_bar_cplx(df, idf, feat, plt_title=\"You forgot the title\", hor=False, how_many=5):\n",
        "    \"\"\"Plot a bar plot of values in a given feature\n",
        "    Stands for `plot bar complex`\n",
        "    \"\"\"\n",
        "    \n",
        "    if(hor==False):\n",
        "        df = df.groupby([feat], as_index=False).agg({idf: 'count'}).sort_values(by=idf, ascending=False).head(how_many)\n",
        "        colors = ['#f8766d',] * df.shape[0]\n",
        "        colors[0] = 'red'\n",
        "\n",
        "        fig = go.Figure([go.Bar(x=df[feat], y=df[idf], marker_color=colors)])\n",
        "    else:\n",
        "      df = df.groupby([feat], as_index=False).agg({idf: 'count'}).sort_values(by=idf, ascending=True).tail(how_many)\n",
        "      colors = ['#f8766d',] * df.shape[0]\n",
        "      colors[(df.shape[0]-1)] = 'red'\n",
        "\n",
        "        \n",
        "    fig = go.Figure([go.Bar(y=df[feat], x=df[idf], orientation='h', marker_color=colors)])\n",
        "    \n",
        "    # template enhancement\n",
        "    fig.update_layout(\n",
        "        template=\"plotly_dark\",\n",
        "        title={\n",
        "            \"text\": plt_title,\n",
        "            \"font\": {\"family\": \"Rockwell\", \"size\": 25},\n",
        "            \"yanchor\": \"top\",\n",
        "        },\n",
        "    )\n",
        "    fig.show()"
      ],
      "metadata": {
        "id": "I3jKn6uDng93"
      },
      "execution_count": 49,
      "outputs": []
    },
    {
      "cell_type": "code",
      "source": [
        "plot_bar_cplx(df, 'id', 'armed', \"Most commonly wielded weapons by people\", hor=True, how_many=10)"
      ],
      "metadata": {
        "colab": {
          "base_uri": "https://localhost:8080/",
          "height": 542
        },
        "id": "5jxnqcA6lzKz",
        "outputId": "530ffa91-3f18-44c4-a7df-e51cbce9927b"
      },
      "execution_count": 50,
      "outputs": [
        {
          "output_type": "display_data",
          "data": {
            "text/html": [
              "<html>\n",
              "<head><meta charset=\"utf-8\" /></head>\n",
              "<body>\n",
              "    <div>            <script src=\"https://cdnjs.cloudflare.com/ajax/libs/mathjax/2.7.5/MathJax.js?config=TeX-AMS-MML_SVG\"></script><script type=\"text/javascript\">if (window.MathJax) {MathJax.Hub.Config({SVG: {font: \"STIX-Web\"}});}</script>                <script type=\"text/javascript\">window.PlotlyConfig = {MathJaxConfig: 'local'};</script>\n",
              "        <script src=\"https://cdn.plot.ly/plotly-2.8.3.min.js\"></script>                <div id=\"3eb28d0c-1375-49c0-a778-30dfcafe1830\" class=\"plotly-graph-div\" style=\"height:525px; width:100%;\"></div>            <script type=\"text/javascript\">                                    window.PLOTLYENV=window.PLOTLYENV || {};                                    if (document.getElementById(\"3eb28d0c-1375-49c0-a778-30dfcafe1830\")) {                    Plotly.newPlot(                        \"3eb28d0c-1375-49c0-a778-30dfcafe1830\",                        [{\"marker\":{\"color\":[\"#f8766d\",\"#f8766d\",\"#f8766d\",\"#f8766d\",\"#f8766d\",\"#f8766d\",\"#f8766d\",\"#f8766d\",\"#f8766d\",\"red\"]},\"orientation\":\"h\",\"x\":[24,26,46,79,159,168,193,355,818,3146],\"y\":[\"ax\",\"Taser\",\"machete\",\"unknown weapon\",\"vehicle\",\"undetermined\",\"toy weapon\",\"unarmed\",\"knife\",\"gun\"],\"type\":\"bar\"}],                        {\"template\":{\"data\":{\"barpolar\":[{\"marker\":{\"line\":{\"color\":\"rgb(17,17,17)\",\"width\":0.5},\"pattern\":{\"fillmode\":\"overlay\",\"size\":10,\"solidity\":0.2}},\"type\":\"barpolar\"}],\"bar\":[{\"error_x\":{\"color\":\"#f2f5fa\"},\"error_y\":{\"color\":\"#f2f5fa\"},\"marker\":{\"line\":{\"color\":\"rgb(17,17,17)\",\"width\":0.5},\"pattern\":{\"fillmode\":\"overlay\",\"size\":10,\"solidity\":0.2}},\"type\":\"bar\"}],\"carpet\":[{\"aaxis\":{\"endlinecolor\":\"#A2B1C6\",\"gridcolor\":\"#506784\",\"linecolor\":\"#506784\",\"minorgridcolor\":\"#506784\",\"startlinecolor\":\"#A2B1C6\"},\"baxis\":{\"endlinecolor\":\"#A2B1C6\",\"gridcolor\":\"#506784\",\"linecolor\":\"#506784\",\"minorgridcolor\":\"#506784\",\"startlinecolor\":\"#A2B1C6\"},\"type\":\"carpet\"}],\"choropleth\":[{\"colorbar\":{\"outlinewidth\":0,\"ticks\":\"\"},\"type\":\"choropleth\"}],\"contourcarpet\":[{\"colorbar\":{\"outlinewidth\":0,\"ticks\":\"\"},\"type\":\"contourcarpet\"}],\"contour\":[{\"colorbar\":{\"outlinewidth\":0,\"ticks\":\"\"},\"colorscale\":[[0.0,\"#0d0887\"],[0.1111111111111111,\"#46039f\"],[0.2222222222222222,\"#7201a8\"],[0.3333333333333333,\"#9c179e\"],[0.4444444444444444,\"#bd3786\"],[0.5555555555555556,\"#d8576b\"],[0.6666666666666666,\"#ed7953\"],[0.7777777777777778,\"#fb9f3a\"],[0.8888888888888888,\"#fdca26\"],[1.0,\"#f0f921\"]],\"type\":\"contour\"}],\"heatmapgl\":[{\"colorbar\":{\"outlinewidth\":0,\"ticks\":\"\"},\"colorscale\":[[0.0,\"#0d0887\"],[0.1111111111111111,\"#46039f\"],[0.2222222222222222,\"#7201a8\"],[0.3333333333333333,\"#9c179e\"],[0.4444444444444444,\"#bd3786\"],[0.5555555555555556,\"#d8576b\"],[0.6666666666666666,\"#ed7953\"],[0.7777777777777778,\"#fb9f3a\"],[0.8888888888888888,\"#fdca26\"],[1.0,\"#f0f921\"]],\"type\":\"heatmapgl\"}],\"heatmap\":[{\"colorbar\":{\"outlinewidth\":0,\"ticks\":\"\"},\"colorscale\":[[0.0,\"#0d0887\"],[0.1111111111111111,\"#46039f\"],[0.2222222222222222,\"#7201a8\"],[0.3333333333333333,\"#9c179e\"],[0.4444444444444444,\"#bd3786\"],[0.5555555555555556,\"#d8576b\"],[0.6666666666666666,\"#ed7953\"],[0.7777777777777778,\"#fb9f3a\"],[0.8888888888888888,\"#fdca26\"],[1.0,\"#f0f921\"]],\"type\":\"heatmap\"}],\"histogram2dcontour\":[{\"colorbar\":{\"outlinewidth\":0,\"ticks\":\"\"},\"colorscale\":[[0.0,\"#0d0887\"],[0.1111111111111111,\"#46039f\"],[0.2222222222222222,\"#7201a8\"],[0.3333333333333333,\"#9c179e\"],[0.4444444444444444,\"#bd3786\"],[0.5555555555555556,\"#d8576b\"],[0.6666666666666666,\"#ed7953\"],[0.7777777777777778,\"#fb9f3a\"],[0.8888888888888888,\"#fdca26\"],[1.0,\"#f0f921\"]],\"type\":\"histogram2dcontour\"}],\"histogram2d\":[{\"colorbar\":{\"outlinewidth\":0,\"ticks\":\"\"},\"colorscale\":[[0.0,\"#0d0887\"],[0.1111111111111111,\"#46039f\"],[0.2222222222222222,\"#7201a8\"],[0.3333333333333333,\"#9c179e\"],[0.4444444444444444,\"#bd3786\"],[0.5555555555555556,\"#d8576b\"],[0.6666666666666666,\"#ed7953\"],[0.7777777777777778,\"#fb9f3a\"],[0.8888888888888888,\"#fdca26\"],[1.0,\"#f0f921\"]],\"type\":\"histogram2d\"}],\"histogram\":[{\"marker\":{\"pattern\":{\"fillmode\":\"overlay\",\"size\":10,\"solidity\":0.2}},\"type\":\"histogram\"}],\"mesh3d\":[{\"colorbar\":{\"outlinewidth\":0,\"ticks\":\"\"},\"type\":\"mesh3d\"}],\"parcoords\":[{\"line\":{\"colorbar\":{\"outlinewidth\":0,\"ticks\":\"\"}},\"type\":\"parcoords\"}],\"pie\":[{\"automargin\":true,\"type\":\"pie\"}],\"scatter3d\":[{\"line\":{\"colorbar\":{\"outlinewidth\":0,\"ticks\":\"\"}},\"marker\":{\"colorbar\":{\"outlinewidth\":0,\"ticks\":\"\"}},\"type\":\"scatter3d\"}],\"scattercarpet\":[{\"marker\":{\"colorbar\":{\"outlinewidth\":0,\"ticks\":\"\"}},\"type\":\"scattercarpet\"}],\"scattergeo\":[{\"marker\":{\"colorbar\":{\"outlinewidth\":0,\"ticks\":\"\"}},\"type\":\"scattergeo\"}],\"scattergl\":[{\"marker\":{\"line\":{\"color\":\"#283442\"}},\"type\":\"scattergl\"}],\"scattermapbox\":[{\"marker\":{\"colorbar\":{\"outlinewidth\":0,\"ticks\":\"\"}},\"type\":\"scattermapbox\"}],\"scatterpolargl\":[{\"marker\":{\"colorbar\":{\"outlinewidth\":0,\"ticks\":\"\"}},\"type\":\"scatterpolargl\"}],\"scatterpolar\":[{\"marker\":{\"colorbar\":{\"outlinewidth\":0,\"ticks\":\"\"}},\"type\":\"scatterpolar\"}],\"scatter\":[{\"marker\":{\"line\":{\"color\":\"#283442\"}},\"type\":\"scatter\"}],\"scatterternary\":[{\"marker\":{\"colorbar\":{\"outlinewidth\":0,\"ticks\":\"\"}},\"type\":\"scatterternary\"}],\"surface\":[{\"colorbar\":{\"outlinewidth\":0,\"ticks\":\"\"},\"colorscale\":[[0.0,\"#0d0887\"],[0.1111111111111111,\"#46039f\"],[0.2222222222222222,\"#7201a8\"],[0.3333333333333333,\"#9c179e\"],[0.4444444444444444,\"#bd3786\"],[0.5555555555555556,\"#d8576b\"],[0.6666666666666666,\"#ed7953\"],[0.7777777777777778,\"#fb9f3a\"],[0.8888888888888888,\"#fdca26\"],[1.0,\"#f0f921\"]],\"type\":\"surface\"}],\"table\":[{\"cells\":{\"fill\":{\"color\":\"#506784\"},\"line\":{\"color\":\"rgb(17,17,17)\"}},\"header\":{\"fill\":{\"color\":\"#2a3f5f\"},\"line\":{\"color\":\"rgb(17,17,17)\"}},\"type\":\"table\"}]},\"layout\":{\"annotationdefaults\":{\"arrowcolor\":\"#f2f5fa\",\"arrowhead\":0,\"arrowwidth\":1},\"autotypenumbers\":\"strict\",\"coloraxis\":{\"colorbar\":{\"outlinewidth\":0,\"ticks\":\"\"}},\"colorscale\":{\"diverging\":[[0,\"#8e0152\"],[0.1,\"#c51b7d\"],[0.2,\"#de77ae\"],[0.3,\"#f1b6da\"],[0.4,\"#fde0ef\"],[0.5,\"#f7f7f7\"],[0.6,\"#e6f5d0\"],[0.7,\"#b8e186\"],[0.8,\"#7fbc41\"],[0.9,\"#4d9221\"],[1,\"#276419\"]],\"sequential\":[[0.0,\"#0d0887\"],[0.1111111111111111,\"#46039f\"],[0.2222222222222222,\"#7201a8\"],[0.3333333333333333,\"#9c179e\"],[0.4444444444444444,\"#bd3786\"],[0.5555555555555556,\"#d8576b\"],[0.6666666666666666,\"#ed7953\"],[0.7777777777777778,\"#fb9f3a\"],[0.8888888888888888,\"#fdca26\"],[1.0,\"#f0f921\"]],\"sequentialminus\":[[0.0,\"#0d0887\"],[0.1111111111111111,\"#46039f\"],[0.2222222222222222,\"#7201a8\"],[0.3333333333333333,\"#9c179e\"],[0.4444444444444444,\"#bd3786\"],[0.5555555555555556,\"#d8576b\"],[0.6666666666666666,\"#ed7953\"],[0.7777777777777778,\"#fb9f3a\"],[0.8888888888888888,\"#fdca26\"],[1.0,\"#f0f921\"]]},\"colorway\":[\"#636efa\",\"#EF553B\",\"#00cc96\",\"#ab63fa\",\"#FFA15A\",\"#19d3f3\",\"#FF6692\",\"#B6E880\",\"#FF97FF\",\"#FECB52\"],\"font\":{\"color\":\"#f2f5fa\"},\"geo\":{\"bgcolor\":\"rgb(17,17,17)\",\"lakecolor\":\"rgb(17,17,17)\",\"landcolor\":\"rgb(17,17,17)\",\"showlakes\":true,\"showland\":true,\"subunitcolor\":\"#506784\"},\"hoverlabel\":{\"align\":\"left\"},\"hovermode\":\"closest\",\"mapbox\":{\"style\":\"dark\"},\"paper_bgcolor\":\"rgb(17,17,17)\",\"plot_bgcolor\":\"rgb(17,17,17)\",\"polar\":{\"angularaxis\":{\"gridcolor\":\"#506784\",\"linecolor\":\"#506784\",\"ticks\":\"\"},\"bgcolor\":\"rgb(17,17,17)\",\"radialaxis\":{\"gridcolor\":\"#506784\",\"linecolor\":\"#506784\",\"ticks\":\"\"}},\"scene\":{\"xaxis\":{\"backgroundcolor\":\"rgb(17,17,17)\",\"gridcolor\":\"#506784\",\"gridwidth\":2,\"linecolor\":\"#506784\",\"showbackground\":true,\"ticks\":\"\",\"zerolinecolor\":\"#C8D4E3\"},\"yaxis\":{\"backgroundcolor\":\"rgb(17,17,17)\",\"gridcolor\":\"#506784\",\"gridwidth\":2,\"linecolor\":\"#506784\",\"showbackground\":true,\"ticks\":\"\",\"zerolinecolor\":\"#C8D4E3\"},\"zaxis\":{\"backgroundcolor\":\"rgb(17,17,17)\",\"gridcolor\":\"#506784\",\"gridwidth\":2,\"linecolor\":\"#506784\",\"showbackground\":true,\"ticks\":\"\",\"zerolinecolor\":\"#C8D4E3\"}},\"shapedefaults\":{\"line\":{\"color\":\"#f2f5fa\"}},\"sliderdefaults\":{\"bgcolor\":\"#C8D4E3\",\"bordercolor\":\"rgb(17,17,17)\",\"borderwidth\":1,\"tickwidth\":0},\"ternary\":{\"aaxis\":{\"gridcolor\":\"#506784\",\"linecolor\":\"#506784\",\"ticks\":\"\"},\"baxis\":{\"gridcolor\":\"#506784\",\"linecolor\":\"#506784\",\"ticks\":\"\"},\"bgcolor\":\"rgb(17,17,17)\",\"caxis\":{\"gridcolor\":\"#506784\",\"linecolor\":\"#506784\",\"ticks\":\"\"}},\"title\":{\"x\":0.05},\"updatemenudefaults\":{\"bgcolor\":\"#506784\",\"borderwidth\":0},\"xaxis\":{\"automargin\":true,\"gridcolor\":\"#283442\",\"linecolor\":\"#506784\",\"ticks\":\"\",\"title\":{\"standoff\":15},\"zerolinecolor\":\"#283442\",\"zerolinewidth\":2},\"yaxis\":{\"automargin\":true,\"gridcolor\":\"#283442\",\"linecolor\":\"#506784\",\"ticks\":\"\",\"title\":{\"standoff\":15},\"zerolinecolor\":\"#283442\",\"zerolinewidth\":2}}},\"title\":{\"font\":{\"family\":\"Rockwell\",\"size\":25},\"text\":\"Most commonly wielded weapons by people\",\"yanchor\":\"top\"}},                        {\"responsive\": true}                    ).then(function(){\n",
              "                            \n",
              "var gd = document.getElementById('3eb28d0c-1375-49c0-a778-30dfcafe1830');\n",
              "var x = new MutationObserver(function (mutations, observer) {{\n",
              "        var display = window.getComputedStyle(gd).display;\n",
              "        if (!display || display === 'none') {{\n",
              "            console.log([gd, 'removed!']);\n",
              "            Plotly.purge(gd);\n",
              "            observer.disconnect();\n",
              "        }}\n",
              "}});\n",
              "\n",
              "// Listen for the removal of the full notebook cells\n",
              "var notebookContainer = gd.closest('#notebook-container');\n",
              "if (notebookContainer) {{\n",
              "    x.observe(notebookContainer, {childList: true});\n",
              "}}\n",
              "\n",
              "// Listen for the clearing of the current output cell\n",
              "var outputEl = gd.closest('.output');\n",
              "if (outputEl) {{\n",
              "    x.observe(outputEl, {childList: true});\n",
              "}}\n",
              "\n",
              "                        })                };                            </script>        </div>\n",
              "</body>\n",
              "</html>"
            ]
          },
          "metadata": {}
        }
      ]
    }
  ]
}